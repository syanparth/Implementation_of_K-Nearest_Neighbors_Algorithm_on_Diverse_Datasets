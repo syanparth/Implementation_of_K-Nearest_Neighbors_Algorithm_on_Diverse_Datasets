{
  "nbformat": 4,
  "nbformat_minor": 0,
  "metadata": {
    "colab": {
      "private_outputs": true,
      "provenance": []
    },
    "kernelspec": {
      "name": "python3",
      "display_name": "Python 3"
    },
    "language_info": {
      "name": "python"
    }
  },
  "cells": [
    {
      "cell_type": "markdown",
      "source": [
        "***KNN for BMI dataset***"
      ],
      "metadata": {
        "id": "Z8IZOjSEBGeR"
      }
    },
    {
      "cell_type": "code",
      "execution_count": null,
      "metadata": {
        "id": "Q9NFwU8c6dPL"
      },
      "outputs": [],
      "source": [
        "import pandas as pd\n",
        "import numpy as np\n",
        "from sklearn.model_selection import train_test_split\n",
        "import matplotlib.pyplot as plt"
      ]
    },
    {
      "cell_type": "code",
      "source": [
        "df=pd.read_csv('/content/bmi.csv')"
      ],
      "metadata": {
        "id": "BvPL-WI-7GMJ"
      },
      "execution_count": null,
      "outputs": []
    },
    {
      "cell_type": "code",
      "source": [
        "df.head(50)"
      ],
      "metadata": {
        "id": "Q5vE9uve7zrM"
      },
      "execution_count": null,
      "outputs": []
    },
    {
      "cell_type": "code",
      "source": [
        "df0=df[df.BmiClass=='Overweight']\n",
        "df1=df[df.BmiClass=='Normal']\n",
        "df2=df[df.BmiClass=='Underweight']\n",
        "df3=df[df.BmiClass=='Obese Class 1']\n",
        "df4=df[df.BmiClass=='Obese Class 2']"
      ],
      "metadata": {
        "id": "_HX-QYaS71vs"
      },
      "execution_count": null,
      "outputs": []
    },
    {
      "cell_type": "code",
      "source": [
        "plt.xlabel(\"Height\")\n",
        "plt.ylabel(\"Weight\")\n",
        "plt.scatter(df0['Height'] , df0['Weight'] )\n",
        "plt.scatter(df2['Height'] , df2['Weight'] )"
      ],
      "metadata": {
        "id": "guBMYp799aDF"
      },
      "execution_count": null,
      "outputs": []
    },
    {
      "cell_type": "code",
      "source": [
        "X=df.drop(['BmiClass'] ,axis='columns')\n",
        "X.head()"
      ],
      "metadata": {
        "id": "x8t21OoV9zcb"
      },
      "execution_count": null,
      "outputs": []
    },
    {
      "cell_type": "code",
      "source": [
        "Y=df.BmiClass"
      ],
      "metadata": {
        "id": "fpWH14soAB0O"
      },
      "execution_count": null,
      "outputs": []
    },
    {
      "cell_type": "code",
      "source": [
        "X_train, X_test, Y_train, Y_test = train_test_split(X,Y,test_size=0.3)"
      ],
      "metadata": {
        "id": "mBr8qk4FAQ-h"
      },
      "execution_count": null,
      "outputs": []
    },
    {
      "cell_type": "code",
      "source": [
        "df.shape"
      ],
      "metadata": {
        "id": "3lH7Rux_ARvo"
      },
      "execution_count": null,
      "outputs": []
    },
    {
      "cell_type": "code",
      "source": [
        "# Making KNN classifier\n",
        "from sklearn.neighbors import KNeighborsClassifier\n",
        "knn = KNeighborsClassifier(n_neighbors=10)\n",
        "knn.fit(X_train,Y_train)"
      ],
      "metadata": {
        "id": "ktf4gQHRAWv5"
      },
      "execution_count": null,
      "outputs": []
    },
    {
      "cell_type": "code",
      "source": [
        "knn.score(X_test,Y_test)"
      ],
      "metadata": {
        "id": "5fAiXyUPAb3i"
      },
      "execution_count": null,
      "outputs": []
    },
    {
      "cell_type": "code",
      "source": [
        "from sklearn.metrics import confusion_matrix\n",
        "y_pred= knn.predict(X_test)\n",
        "cm=confusion_matrix(Y_test, y_pred)\n",
        "print(cm)"
      ],
      "metadata": {
        "id": "5zqCJgCIAeQj"
      },
      "execution_count": null,
      "outputs": []
    },
    {
      "cell_type": "code",
      "source": [
        "from matplotlib import pyplot as plt\n",
        "import seaborn as sn\n",
        "plt.figure(figsize=(7,5))\n",
        "sn.heatmap(cm, annot=True)\n",
        "plt.xlabel(\"predicted\")\n",
        "plt.ylabel(\"truth\")"
      ],
      "metadata": {
        "id": "_-1aofi9AhmE"
      },
      "execution_count": null,
      "outputs": []
    }
  ]
}
